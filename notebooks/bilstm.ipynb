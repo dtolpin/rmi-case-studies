{
 "cells": [
  {
   "cell_type": "markdown",
   "metadata": {},
   "source": [
    "Can we just learn the function instead of deriving algorithms?\n"
   ]
  },
  {
   "cell_type": "code",
   "execution_count": 1,
   "metadata": {},
   "outputs": [],
   "source": [
    "import sys\n",
    "import os.path\n",
    "import torch.nn\n",
    "import torch.optim\n",
    "import torch.utils.data\n",
    "from torch.autograd import Variable\n",
    "import numpy\n",
    "import numpy.random\n",
    "import scipy\n",
    "from sklearn import metrics\n",
    "import matplotlib.pyplot as plt\n",
    "%matplotlib inline"
   ]
  },
  {
   "cell_type": "code",
   "execution_count": 2,
   "metadata": {},
   "outputs": [],
   "source": [
    "DATADIR = \"../data\"\n",
    "FEATRS = [\"s-collected-negative.npy\", \"s-collected-positive.npy\"]\n",
    "LABELS = [\"z-collected-negative.npy\", \"z-collected-positive.npy\"]"
   ]
  },
  {
   "cell_type": "markdown",
   "metadata": {},
   "source": [
    "Load the data."
   ]
  },
  {
   "cell_type": "code",
   "execution_count": 3,
   "metadata": {},
   "outputs": [],
   "source": [
    "data = []\n",
    "for fname, lname in zip(FEATRS, LABELS):\n",
    "    f = numpy.load(os.path.join(DATADIR, fname))\n",
    "    l = numpy.load(os.path.join(DATADIR, lname))\n",
    "    l = numpy.expand_dims(l, 2)\n",
    "    data.append(numpy.concatenate([f, l], axis=2))"
   ]
  },
  {
   "cell_type": "markdown",
   "metadata": {},
   "source": [
    "Take the same fraction from each part as the training set."
   ]
  },
  {
   "cell_type": "code",
   "execution_count": 21,
   "metadata": {},
   "outputs": [],
   "source": [
    "TRAIN_FRACTION = 0.8\n",
    "BATCH_SIZE = 16\n",
    "LEARNING_RATE = 0.001\n",
    "NEPOCHS = 50\n",
    "HIDDEN_SIZE = 64\n",
    "NUM_LAYERS = 3\n",
    "BIDIRECTIONAL = True"
   ]
  },
  {
   "cell_type": "code",
   "execution_count": 22,
   "metadata": {},
   "outputs": [],
   "source": [
    "train_data = []\n",
    "test_data = []\n",
    "for part in data:\n",
    "    indices = numpy.arange(len(part))\n",
    "    numpy.random.shuffle(indices)\n",
    "    train_end = int(len(indices) * TRAIN_FRACTION)\n",
    "    train_data.append(part[indices[:train_end]])\n",
    "    test_data.append(part[indices[train_end:]])\n",
    "train_data = numpy.concatenate(train_data, axis=0)\n",
    "test_data = numpy.concatenate(test_data, axis=0)"
   ]
  },
  {
   "cell_type": "code",
   "execution_count": 23,
   "metadata": {},
   "outputs": [],
   "source": [
    "train_loader = torch.utils.data.DataLoader(\n",
    "    train_data,\n",
    "    batch_size=BATCH_SIZE,\n",
    "    shuffle=True)\n",
    "test_loader = torch.utils.data.DataLoader(\n",
    "    test_data,\n",
    "    batch_size=BATCH_SIZE,\n",
    "    shuffle=False)"
   ]
  },
  {
   "cell_type": "markdown",
   "metadata": {},
   "source": [
    "The model is a multilayer LSTM, used to classify entries into regular and containing intrusion. We do not have enough positive intrusion event labels to detect individual events, so only overall intrusion/no intrusion classification is learned."
   ]
  },
  {
   "cell_type": "code",
   "execution_count": 28,
   "metadata": {},
   "outputs": [],
   "source": [
    "class Model(torch.nn.Module):\n",
    "    def __init__(self):\n",
    "        super(Model, self).__init__()\n",
    "        self.lstm = torch.nn.LSTM(2, HIDDEN_SIZE, NUM_LAYERS, bidirectional=BIDIRECTIONAL)\n",
    "        self.readout = torch.nn.Linear(HIDDEN_SIZE, 1)\n",
    "        \n",
    "    def forward(self, x):\n",
    "        _, (h, _) = self.lstm(x)\n",
    "        result = self.readout(h[-1])\n",
    "        return result"
   ]
  },
  {
   "cell_type": "code",
   "execution_count": 25,
   "metadata": {},
   "outputs": [],
   "source": [
    "def makexy(batch):\n",
    "    batch = batch.float()\n",
    "    x = Variable(batch[:, :, :2])\n",
    "    y = Variable(batch[:, :, 2:].sum(dim=0).sign())\n",
    "    return x, y"
   ]
  },
  {
   "cell_type": "code",
   "execution_count": 26,
   "metadata": {},
   "outputs": [],
   "source": [
    "model = Model()\n",
    "optimizer = torch.optim.Adam(model.parameters(), lr=LEARNING_RATE)\n",
    "\n",
    "train_loss = numpy.nan\n",
    "test_loss =numpy.nan\n",
    "\n",
    "# Train/test loop\n",
    "iepoch = 0\n",
    "loss_function = torch.nn.BCEWithLogitsLoss()"
   ]
  },
  {
   "cell_type": "code",
   "execution_count": 27,
   "metadata": {
    "scrolled": false
   },
   "outputs": [
    {
     "name": "stderr",
     "output_type": "stream",
     "text": [
      "/home/dvd/miniconda3/lib/python3.6/site-packages/ipykernel_launcher.py:14: UserWarning: invalid index of a 0-dim tensor. This will be an error in PyTorch 0.5. Use tensor.item() to convert a 0-dim tensor to a Python number\n",
      "  \n"
     ]
    },
    {
     "name": "stdout",
     "output_type": "stream",
     "text": [
      "epoch    0: train loss: nan test loss: 0.660936\n"
     ]
    },
    {
     "name": "stderr",
     "output_type": "stream",
     "text": [
      "/home/dvd/miniconda3/lib/python3.6/site-packages/ipykernel_launcher.py:40: UserWarning: invalid index of a 0-dim tensor. This will be an error in PyTorch 0.5. Use tensor.item() to convert a 0-dim tensor to a Python number\n"
     ]
    },
    {
     "name": "stdout",
     "output_type": "stream",
     "text": [
      "epoch    1: train loss: 0.530186 test loss: 0.469356\n",
      "epoch    2: train loss: 0.482858 test loss: 0.441877\n",
      "epoch    3: train loss: 0.455149 test loss: 0.442864\n",
      "epoch    4: train loss: 0.460862 test loss: 0.436243\n",
      "epoch    5: train loss: 0.453052 test loss: 0.435263\n",
      "epoch    6: train loss: 0.451168 test loss: 0.430518\n",
      "epoch    7: train loss: 0.441288 test loss: 0.466721\n",
      "epoch    8: train loss: 0.443431 test loss: 0.426291\n",
      "epoch    9: train loss: 0.449675 test loss: 0.437495\n",
      "epoch   10: train loss: 0.440619 test loss: 0.442427\n",
      "epoch   11: train loss: 0.454302 test loss: 0.425464\n",
      "epoch   12: train loss: 0.444026 test loss: 0.426864\n",
      "epoch   13: train loss: 0.442875 test loss: 0.424933\n",
      "epoch   14: train loss: 0.439988 test loss: 0.425792\n",
      "epoch   15: train loss: 0.443026 test loss: 0.420014\n",
      "epoch   16: train loss: 0.442624 test loss: 0.42562\n",
      "epoch   17: train loss: 0.447239 test loss: 0.421528\n",
      "epoch   18: train loss: 0.435675 test loss: 0.415856\n",
      "epoch   19: train loss: 0.435902 test loss: 0.42395\n",
      "epoch   20: train loss: 0.438857 test loss: 0.427098\n",
      "epoch   21: train loss: 0.439297 test loss: 0.425182\n",
      "epoch   22: train loss: 0.438336 test loss: 0.416827\n",
      "epoch   23: train loss: 0.443534 test loss: 0.419872\n",
      "epoch   24: train loss: 0.434962 test loss: 0.424071\n",
      "epoch   25: train loss: 0.435963 test loss: 0.425511\n",
      "epoch   26: train loss: 0.445619 test loss: 0.423409\n",
      "epoch   27: train loss: 0.444804 test loss: 0.417132\n",
      "epoch   28: train loss: 0.43875 test loss: 0.41962\n",
      "epoch   29: train loss: 0.439998 test loss: 0.417802\n",
      "epoch   30: train loss: 0.438818 test loss: 0.417756\n",
      "epoch   31: train loss: 0.43206 test loss: 0.424807\n",
      "epoch   32: train loss: 0.435442 test loss: 0.411794\n",
      "epoch   33: train loss: 0.440922 test loss: 0.419235\n",
      "epoch   34: train loss: 0.430389 test loss: 0.415864\n",
      "epoch   35: train loss: 0.440313 test loss: 0.424924\n",
      "epoch   36: train loss: 0.429949 test loss: 0.423668\n",
      "epoch   37: train loss: 0.443554 test loss: 0.414013\n",
      "epoch   38: train loss: 0.441965 test loss: 0.421721\n",
      "epoch   39: train loss: 0.440119 test loss: 0.420029\n",
      "epoch   40: train loss: 0.437333 test loss: 0.415143\n",
      "epoch   41: train loss: 0.435502 test loss: 0.418434\n",
      "epoch   42: train loss: 0.437536 test loss: 0.417557\n",
      "epoch   43: train loss: 0.436629 test loss: 0.417906\n",
      "epoch   44: train loss: 0.440271 test loss: 0.423606\n",
      "epoch   45: train loss: 0.429018 test loss: 0.416161\n",
      "epoch   46: train loss: 0.433883 test loss: 0.423244\n",
      "epoch   47: train loss: 0.43702 test loss: 0.411532\n",
      "epoch   48: train loss: 0.435707 test loss: 0.415136\n",
      "epoch   49: train loss: 0.42924 test loss: 0.417045\n",
      "epoch   50: train loss: 0.439138 test loss: 0.421535\n"
     ]
    }
   ],
   "source": [
    "first_epoch = iepoch\n",
    "while True:\n",
    "    # Validate and test the model\n",
    "    model.eval()\n",
    "    test_loss = 0.\n",
    "    for batch in test_loader:\n",
    "        x, y = makexy(batch)\n",
    "        \n",
    "        # forward\n",
    "        result = model(x)\n",
    "\n",
    "        # loss\n",
    "        batch_loss = loss_function(result, y)\n",
    "        test_loss += batch_loss.data[0] * len(batch)\n",
    "\n",
    "    test_loss /= len(test_loader.dataset)\n",
    "\n",
    "    print(\"epoch {:4d}: train loss: {:.6g} test loss: {:.6g}\"\n",
    "          .format(iepoch, train_loss, test_loss))\n",
    "    sys.stdout.flush()\n",
    "\n",
    "    if iepoch == NEPOCHS + first_epoch:\n",
    "        break\n",
    "    iepoch += 1\n",
    "\n",
    "    # Train the model\n",
    "    model.train()\n",
    "    train_loss = 0.\n",
    "    for batch in train_loader:\n",
    "        optimizer.zero_grad()\n",
    "\n",
    "        x, y = makexy(batch)\n",
    "\n",
    "        # forward\n",
    "        result = model(x)\n",
    "        preds = result[0]\n",
    "\n",
    "        # loss\n",
    "        batch_loss = loss_function(result, y)\n",
    "        train_loss += batch_loss.data[0] * len(batch)\n",
    "\n",
    "        # backward\n",
    "        batch_loss.backward()\n",
    "        optimizer.step()\n",
    "\n",
    "    train_loss /= len(train_loader.dataset)"
   ]
  },
  {
   "cell_type": "code",
   "execution_count": 32,
   "metadata": {},
   "outputs": [
    {
     "name": "stdout",
     "output_type": "stream",
     "text": [
      "torch.Size([50, 200, 2]) torch.Size([200, 1])\n"
     ]
    },
    {
     "name": "stderr",
     "output_type": "stream",
     "text": [
      "/home/dvd/miniconda3/lib/python3.6/site-packages/torch/tensor.py:255: UserWarning: non-inplace resize is deprecated\n",
      "  warnings.warn(\"non-inplace resize is deprecated\")\n"
     ]
    }
   ],
   "source": [
    "model.eval()\n",
    "x, y = makexy(torch.from_numpy(test_data.transpose(1, 0, 2)))\n",
    "y = y.data.resize(len(y))\n",
    "result = torch.nn.Sigmoid()(model(x)).data\n",
    "result = result.resize(len(result))"
   ]
  },
  {
   "cell_type": "markdown",
   "metadata": {},
   "source": [
    "Let us draw ROC on the training set and compute the AUC."
   ]
  },
  {
   "cell_type": "code",
   "execution_count": 30,
   "metadata": {},
   "outputs": [
    {
     "data": {
      "text/plain": [
       "Text(0.5,1,'auc = 0.6016')"
      ]
     },
     "execution_count": 30,
     "metadata": {},
     "output_type": "execute_result"
    },
    {
     "data": {
      "image/png": "[encoded data removed]",
      "text/plain": [
       "<Figure size 432x288 with 1 Axes>"
      ]
     },
     "metadata": {},
     "output_type": "display_data"
    }
   ],
   "source": [
    "fpr, tpr, thresholds = metrics.roc_curve(y.data, result, pos_label=True)\n",
    "plt.plot(fpr, tpr)\n",
    "auc = metrics.auc(fpr, tpr)\n",
    "plt.title(\"auc = {:.4f}\".format(auc))"
   ]
  },
  {
   "cell_type": "markdown",
   "metadata": {},
   "source": [
    "The accuracy is similar to detecting based on marks only. The use of deep learning is still possible but more complicated than just training an LSTM-based classifier."
   ]
  },
  {
   "cell_type": "code",
   "execution_count": null,
   "metadata": {},
   "outputs": [],
   "source": []
  }
 ],
 "metadata": {
  "kernelspec": {
   "display_name": "Python 3",
   "language": "python",
   "name": "python3"
  },
  "language_info": {
   "codemirror_mode": {
    "name": "ipython",
    "version": 3
   },
   "file_extension": ".py",
   "mimetype": "text/x-python",
   "name": "python",
   "nbconvert_exporter": "python",
   "pygments_lexer": "ipython3",
   "version": "3.6.4"
  }
 },
 "nbformat": 4,
 "nbformat_minor": 2
}
