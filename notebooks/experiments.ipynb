{
 "cells": [
  {
   "cell_type": "code",
   "execution_count": 1,
   "metadata": {},
   "outputs": [],
   "source": [
    "import numpy\n",
    "import scipy\n",
    "import scipy.special\n",
    "import scipy.stats\n",
    "from sklearn import metrics\n",
    "import matplotlib.pyplot as plt\n",
    "import rmi.pp, rmi.map, rmi.em\n",
    "from rmi.xdist import xexpon, xgamma\n",
    "%load_ext ipython_unittest\n",
    "%matplotlib inline"
   ]
  },
  {
   "cell_type": "markdown",
   "metadata": {},
   "source": [
    "# Intrusions in Marked Renewal Processes\n",
    "\n",
    "This notebook is a part of empirical evaluation for the paper [](Intrusions in Marked Renewal Processes). "
   ]
  },
  {
   "cell_type": "markdown",
   "metadata": {},
   "source": [
    "\n",
    "## Helpers\n",
    "\n",
    "We need an improper uniform distribution with pdf equal 1 everywhere. We will use it to ignore either marks or intervals for intrusion detection."
   ]
  },
  {
   "cell_type": "code",
   "execution_count": 2,
   "metadata": {},
   "outputs": [],
   "source": [
    "class ImproperUniform(object):\n",
    "    \"\"\"Improper uniform distribution.\n",
    "    pdf, cdf, and sf is 1 everywhere.\n",
    "    \"\"\"\n",
    "    def pdf(self, _):\n",
    "        return 1\n",
    "    \n",
    "    def cdf(self, _):\n",
    "        return 1\n",
    "    \n",
    "    @property\n",
    "    def meanpdf(self):\n",
    "        return 1\n",
    "    \n",
    "    def if2(self, _):\n",
    "        return 1\n",
    "    \n",
    "    def ixf2(self, _):\n",
    "        return 1\n",
    "    \n",
    "    def mean(self):\n",
    "        return 1"
   ]
  },
  {
   "cell_type": "markdown",
   "metadata": {},
   "source": [
    "## Evaluation on Synthetic data\n",
    "\n",
    "Synthetic data are sampled from a marked renewal process of known shape and parameters. \n",
    "\n",
    "### Generative model\n",
    "\n",
    "We first define a generative model for the data in Python. The model produces both normal entries and intrusions."
   ]
  },
  {
   "cell_type": "code",
   "execution_count": 3,
   "metadata": {},
   "outputs": [],
   "source": [
    "def generate(N, pi, F, G, Gi=xexpon(scale=1)):\n",
    "    \"\"\"\n",
    "    Generates a data sequence with possible intrusion.\n",
    "    Accepts:\n",
    "        N - the number of events,\n",
    "        F - interval distribution,\n",
    "        G - mark distribution,\n",
    "        Gi - intrusion mark distribution.\n",
    "    Returns:\n",
    "        [t_s, t_e, [[t_i, y_i] ...], [z_i ...]]\n",
    "    where\n",
    "        t_s - start of the interval\n",
    "        t_e - end of the interval\n",
    "        t_i - arrival time of the ith event\n",
    "        y_i - mark of the ith event\n",
    "        z_i - 1 if the event belongs to the intrusion, 0 otherwise.\n",
    "    \"\"\"\n",
    "    # Normal events\n",
    "    K = scipy.stats.binom.rvs(N, pi)\n",
    "    ts = numpy.cumsum(F.rvs(size=N - K))\n",
    "    ys = G.rvs(size=N - K)\n",
    "    t_s = scipy.stats.uniform.rvs(0, ts[0])\n",
    "    t_e = ts[-1] + t_s\n",
    "    \n",
    "    # Intrusion events\n",
    "    ti_s, ti_e = scipy.stats.uniform.rvs(t_s, t_e - t_s, size=2)\n",
    "    if ti_e < ti_s:\n",
    "        ti_s, ti_e = ti_e, ti_s\n",
    "    tis = scipy.stats.uniform.rvs(ti_s, ti_e - ti_s, size=K)\n",
    "    yis = Gi.rvs(size=K)\n",
    "    \n",
    "    # Merge them into a single list\n",
    "    SZ = [(t, s, 0) for t, s in zip(ts, ys)] + [(t, s, 1) for t, s in zip(tis, yis)]\n",
    "    SZ.sort(key=lambda x: x[0])\n",
    "    S = [(x, y) for x, y, _ in SZ]\n",
    "    Z = [z for _, _, z in SZ]\n",
    "    return [t_s, t_e, S, Z]"
   ]
  },
  {
   "cell_type": "markdown",
   "metadata": {},
   "source": [
    "The event probability of belonging to an intrusion is chosen so that the probability of an intrusion is as given."
   ]
  },
  {
   "cell_type": "code",
   "execution_count": 7,
   "metadata": {},
   "outputs": [],
   "source": [
    "def get_pe(N, p=0.5):\n",
    "    \"\"\"\"\"\"\n",
    "    return 1 - (1 - p)**(1. / N)"
   ]
  },
  {
   "cell_type": "code",
   "execution_count": null,
   "metadata": {
    "scrolled": true
   },
   "outputs": [],
   "source": [
    "%%unittest\n",
    "\"\"\"Check that generated data set is balanced as specified\"\"\"\n",
    "for pi in [0.25, 0.5, 0.75]:\n",
    "    assert abs(scipy.stats.binom.pmf(0, 100, get_pe(100, pi)) - (1 - pi)) < 1E-6"
   ]
  },
  {
   "cell_type": "code",
   "execution_count": null,
   "metadata": {},
   "outputs": [],
   "source": [
    "%%unittest\n",
    "\"\"\"check that traces contain intrusion with requested probability\"\"\"\n",
    "N = 100\n",
    "pi = 0.5\n",
    "pe = get_pe(N, pi)\n",
    "NITER = 1000\n",
    "ind = 0\n",
    "for i in range(NITER):\n",
    "    t_s, t_e, S, Z = generate(N, pe, \n",
    "        F=scipy.stats.gamma(a=2, scale=1), \n",
    "        G=scipy.stats.expon(scale=1),\n",
    "        Gi=scipy.stats.expon(scale=10))\n",
    "    ind += any(Z)\n",
    "assert abs(ind/NITER - pi) < 0.05"
   ]
  },
  {
   "cell_type": "markdown",
   "metadata": {
    "collapsed": true
   },
   "source": [
    "### Evaluation dataset\n",
    "\n",
    "We can generate a data set using the generative model now. The data consists of tensors `T`, `S`, and `Z` containing intervals, samples and labels for the samples, correspondingly. "
   ]
  },
  {
   "cell_type": "code",
   "execution_count": 5,
   "metadata": {},
   "outputs": [],
   "source": [
    "NSAMPLES = 10000\n",
    "FAs = [1, 2, 4, 8, 16]\n",
    "FSCALE = 1.\n",
    "GSCALE = 1.\n",
    "ISCALE = 2.\n",
    "N = 20\n",
    "PI = 0.5\n",
    "PE = get_pe(N, PI)\n",
    "\n",
    "def sfname(t, p):\n",
    "    return format(\"../data/x-{}-synthetic-a={}.npy\".format(t, a))"
   ]
  },
  {
   "cell_type": "code",
   "execution_count": null,
   "metadata": {},
   "outputs": [],
   "source": [
    "GENERATE = True\n",
    "if GENERATE:\n",
    "    print(\"a\")\n",
    "    for a in FAs:\n",
    "        print(\"{:f}\".format(a), end=\" \")\n",
    "        T = []\n",
    "        S = []\n",
    "        Z = []\n",
    "        # We create a balanced data set here, otherwise\n",
    "        # positive samples will be too sparse for realistic\n",
    "        # values of P\n",
    "        for i in range(NSAMPLES):\n",
    "            while True:\n",
    "                t_s, t_e, s, z = generate(N, PE, \n",
    "                    F=scipy.stats.gamma(a=a, scale=FSCALE), \n",
    "                    G=scipy.stats.expon(scale=GSCALE),\n",
    "                    Gi=scipy.stats.expon(scale=ISCALE))\n",
    "                if (sum(z) == 0) == (numpy.random.rand() < PI):\n",
    "                    break\n",
    "            T.append([t_s, t_e])\n",
    "            S.append(s)\n",
    "            Z.append(z)\n",
    "        T = numpy.array(T)\n",
    "        S = numpy.array(S)\n",
    "        Z = numpy.array(Z)\n",
    "        numpy.save(sfname(\"t\", a), T, False)\n",
    "        numpy.save(sfname(\"s\", a), S, False)\n",
    "        numpy.save(sfname(\"z\", a), Z, False)\n",
    "        print(\"✓\")"
   ]
  },
  {
   "cell_type": "markdown",
   "metadata": {},
   "source": [
    "For analysis, we re-load the dataset. The dataset is a list of records, one record for each `a`."
   ]
  },
  {
   "cell_type": "code",
   "execution_count": 106,
   "metadata": {},
   "outputs": [],
   "source": [
    "DATASETS = []\n",
    "SUBSIZE = None\n",
    "for a in FAs:\n",
    "        T = numpy.load(sfname(\"t\", a))\n",
    "        S = numpy.load(sfname(\"s\", a))\n",
    "        Z = numpy.load(sfname(\"z\", a))\n",
    "        if SUBSIZE is not None:\n",
    "            T = T[:SUBSIZE]\n",
    "            S = S[:SUBSIZE]\n",
    "            Z = Z[:SUBSIZE]\n",
    "        DATASETS.append({\"a\": a,\n",
    "                         \"T\": T,\n",
    "                         \"S\": S,\n",
    "                         \"Z\": Z})"
   ]
  },
  {
   "cell_type": "markdown",
   "metadata": {},
   "source": [
    "With the dataset at hand, we are ready for the evaluation.\n",
    "\n",
    "### Experiments with algorithms\n",
    "\n",
    "#### Posterior Probabilities"
   ]
  },
  {
   "cell_type": "code",
   "execution_count": 6,
   "metadata": {},
   "outputs": [],
   "source": [
    "def posteriors(ds, EM, F, G, pe, masks=[\"F\", \"G\", \"\"]):\n",
    "    for mask in masks:\n",
    "        P = numpy.ndarray(ds[\"S\"].shape[0])\n",
    "        M = numpy.ndarray(ds[\"S\"].shape[:2])\n",
    "        L = numpy.ndarray(M.shape)\n",
    "        \n",
    "        for i in range(ds[\"S\"].shape[0]):\n",
    "            S = ds[\"S\"][i, :]\n",
    "            t_s, t_e = ds[\"T\"][i, :]\n",
    "\n",
    "            if EM:\n",
    "                F_, G_, _ = rmi.em.parameters(t_s, t_e, S, pe, max_iter=10)\n",
    "            else:\n",
    "                F_, G_ = F, G\n",
    "            \n",
    "            if mask == \"F\":\n",
    "                F_ = ImproperUniform()\n",
    "            elif mask == \"G\":\n",
    "                G_ = ImproperUniform()\n",
    "\n",
    "            P[i] = rmi.pp.intrusion(t_s, t_e, S, pe, F_, G_)\n",
    "            M[i, :] = rmi.pp.marginal(t_s, t_e, S, pe, F_, G_)\n",
    "            L[i, :] = rmi.map.labels(t_s, t_e, S, pe, F_, G_)\n",
    "            \n",
    "        # probability computations may overflow\n",
    "        P[numpy.isnan(P)] = 0.5\n",
    "        M[numpy.isnan(M)] = 0.5\n",
    "        \n",
    "        ds[\"P\" + str(EM) + mask] = P\n",
    "        ds[\"M\" + str(EM) + mask] = M\n",
    "        ds[\"L\" + str(EM) + mask] = L"
   ]
  },
  {
   "cell_type": "markdown",
   "metadata": {},
   "source": [
    "Let's now compute posteriors for all samples in all data sets."
   ]
  },
  {
   "cell_type": "code",
   "execution_count": null,
   "metadata": {},
   "outputs": [],
   "source": [
    "MASKS = [\"G\"]\n",
    "\n",
    "G = xexpon(scale=GSCALE)\n",
    "print(\"EM\\ta\")\n",
    "for ds in DATASETS:\n",
    "    F = xgamma(a=ds[\"a\"], scale=FSCALE)\n",
    "    for EM in [False, True]:\n",
    "        print(\"{}\\t{:.4f}\".format(EM, ds[\"a\"]), end=\" \")\n",
    "        posteriors(ds, EM, F, G, PE, MASKS)\n",
    "        print(\"✓\")"
   ]
  },
  {
   "cell_type": "markdown",
   "metadata": {},
   "source": [
    "Based on the computed results, we can obtain statistics on intrusion detection.\n",
    "\n",
    "#### Basic analytics\n",
    "\n",
    "First, we compute just the average intrusion probability in positive and negative samples. The greater the difference between these two numbers, the higher is the detection accuracy."
   ]
  },
  {
   "cell_type": "code",
   "execution_count": null,
   "metadata": {
    "scrolled": false
   },
   "outputs": [],
   "source": [
    "print(\"EM\\tmask\\ta\\tnP\\tpP\\tnN\\tpN\")\n",
    "as_ = set()\n",
    "curves = {}\n",
    "for ds in DATASETS:\n",
    "    for mask in MASKS:\n",
    "        for EM in [\"False\", \"True\"]:\n",
    "            pP = 0.\n",
    "            pP2 = 0.\n",
    "            pN = 0.\n",
    "            pN2 = 0.\n",
    "            nP = 0\n",
    "            nN = 0\n",
    "            for i in range(ds[\"S\"].shape[0]):\n",
    "                if sum(ds[\"Z\"][i, :]) > 0:\n",
    "                    pi = ds[\"P\" + EM + mask][i]\n",
    "                    pP += pi\n",
    "                    pP2 += pi * pi\n",
    "                    nP += 1\n",
    "                else:\n",
    "                    pi = ds[\"P\" + EM + mask][i]\n",
    "                    pN += pi\n",
    "                    pN2 += pi * pi\n",
    "                    nN += 1\n",
    "            pP /= max(nP, 1)\n",
    "            pN /= max(nN, 1)\n",
    "            pP2 /= max(nP, 1)\n",
    "            pN2 /= max(nN, 1)\n",
    "            as_.add(ds[\"a\"])\n",
    "            if (EM + mask) not in curves:\n",
    "                curves[EM + mask]  = {}\n",
    "            curves[EM + mask][ds[\"a\"]] = [pP, pN,\n",
    "                                   numpy.sqrt(pP2 - pP * pP),\n",
    "                                   numpy.sqrt(pN2 - pN * pN)]\n",
    "            print(\"{}\\t{}\\t{:.4f}\\t{:d}\\t{:.4f}\\t{:d}\\t{:.4f}\"\n",
    "                  .format(EM, mask, ds[\"a\"], nP, pP, nN, pN))\n",
    "as_ = sorted(list(as_))"
   ]
  },
  {
   "cell_type": "markdown",
   "metadata": {},
   "source": [
    "Let's visualize the average alert score as function of intrusion probability."
   ]
  },
  {
   "cell_type": "code",
   "execution_count": 119,
   "metadata": {},
   "outputs": [
    {
     "data": {
      "text/plain": [
       "<matplotlib.legend.Legend at 0x109cc25c0>"
      ]
     },
     "execution_count": 119,
     "metadata": {},
     "output_type": "execute_result"
    },
    {
     "data": {
      "image/png": "[encoded data removed]",
      "text/plain": [
       "<Figure size 720x216 with 1 Axes>"
      ]
     },
     "metadata": {},
     "output_type": "display_data"
    }
   ],
   "source": [
    "xs = as_\n",
    "f_s_aas, sp = plt.subplots(1, 1, sharex=True, sharey=True)\n",
    "f_s_aas.set_figwidth(10)\n",
    "f_s_aas.set_figheight(3)\n",
    "sp.set_ylabel(\"intrusion probability\")\n",
    "sp.set_xlabel(\"shape of interval distribution\")\n",
    "sp.set_ylim(0, 1.)\n",
    "sp.semilogx(basex=2)\n",
    "for j, mask in enumerate(MASKS):\n",
    "    for em, label in [(False, \"known\"), (True, \"EM\")]:\n",
    "        ys = numpy.array([curves[str(em) + mask][a] for a in as_])\n",
    "        sp.errorbar(xs, ys[:, 0], yerr=ys[:, 2], marker='o', capsize=4, label=\"intrusion ({})\".format(label))\n",
    "        sp.errorbar(xs, ys[:, 1], yerr=ys[:, 3], marker='x', capsize=4, label=\"no intrusion ({})\".format(label))\n",
    "    handles, labels = sp.get_legend_handles_labels()\n",
    "sp.legend(handles, labels, loc=\"upper left\")\n",
    "# f_s_aas.savefig('../figures/synthetic-intrusion-probability.pdf')"
   ]
  },
  {
   "cell_type": "markdown",
   "metadata": {},
   "source": [
    "#### Fine-grained metrics\n",
    "\n",
    "We also obtain more fine-grained metrics of detection accuracy. \n",
    "\n",
    "* AUC on total intrusion probability\n",
    "* Jackard similarity for MAP"
   ]
  },
  {
   "cell_type": "markdown",
   "metadata": {},
   "source": [
    "#### AUC"
   ]
  },
  {
   "cell_type": "code",
   "execution_count": null,
   "metadata": {},
   "outputs": [],
   "source": [
    "print(\"EM\\tmask\\ta\\tauc\")\n",
    "pcurves = {}\n",
    "f, sp = plt.subplots(1, 2, sharey=True)\n",
    "f.set_figwidth(15)\n",
    "f.set_figheight(3)\n",
    "sp[0].set_xlabel(\"FPR\")\n",
    "sp[0].set_ylabel(\"TPR\")\n",
    "sp[1].set_xlabel(\"Recall\")\n",
    "sp[1].set_ylabel(\"Precision\")\n",
    "for ds in DATASETS:\n",
    "    for EM in [False, True]:\n",
    "        print(\"{}\\t{}\\t{:.4f}\"\n",
    "                  .format(EM, mask, ds[\"a\"]), end=\"\")\n",
    "        for mask in MASKS:\n",
    "            key = str(EM) + mask\n",
    "            fpr, tpr, thresholds = metrics.roc_curve(ds[\"Z\"].sum(axis=1) > 0,\n",
    "                                                     ds[\"P\" + key], \n",
    "                                                     pos_label=True)\n",
    "            precision, recall, thresholds = metrics.precision_recall_curve(\n",
    "                                                     ds[\"Z\"].sum(axis=1) > 0,\n",
    "                                                     ds[\"P\" + key],\n",
    "                                                     pos_label=True)\n",
    "            sp[0].plot(fpr, tpr)\n",
    "            sp[1].plot(recall, precision)\n",
    "            auc = metrics.auc(fpr, tpr)\n",
    "            if key not in pcurves:\n",
    "                pcurves[key] = {}\n",
    "            pcurves[key][ds[\"a\"]] = auc\n",
    "            print(\"\\t{:.4f}\".format( auc), end=\"\")\n",
    "        print()"
   ]
  },
  {
   "cell_type": "markdown",
   "metadata": {},
   "source": [
    "Let's visualize AUC:"
   ]
  },
  {
   "cell_type": "code",
   "execution_count": 112,
   "metadata": {},
   "outputs": [
    {
     "data": {
      "text/plain": [
       "<matplotlib.legend.Legend at 0x10a6de358>"
      ]
     },
     "execution_count": 112,
     "metadata": {},
     "output_type": "execute_result"
    },
    {
     "data": {
      "image/png": "[encoded data removed]",
      "text/plain": [
       "<Figure size 720x216 with 1 Axes>"
      ]
     },
     "metadata": {},
     "output_type": "display_data"
    }
   ],
   "source": [
    "xs = as_\n",
    "f_s_pauc, sp = plt.subplots(1, 1, sharex=True, sharey=True)\n",
    "f_s_pauc.subplots_adjust(wspace=0.05, hspace=0.05)\n",
    "f_s_pauc.set_figwidth(10)\n",
    "f_s_pauc.set_figheight(3)\n",
    "sp.set_ylabel(\"AUC\")\n",
    "sp.set_xlabel(\"shape of interval distribution\")\n",
    "sp.set_ylim(0.5, 1.)\n",
    "sp.semilogx(basex=2)\n",
    "for mask in MASKS:\n",
    "    for (i, em) in enumerate([\"False\", \"True\"]):\n",
    "        ys = numpy.array([pcurves[em + mask][a] for a in as_])\n",
    "        sp.plot(xs, ys, label=[\"known process\", \"EM\"][i], marker=['o', 'x'][i])\n",
    "sp.legend()\n",
    "# f_s_pauc.savefig(\"../figures/synthetic-auc-per-entry.pdf\")"
   ]
  },
  {
   "cell_type": "markdown",
   "metadata": {},
   "source": [
    "#### Jaccard similarity"
   ]
  },
  {
   "cell_type": "code",
   "execution_count": 113,
   "metadata": {},
   "outputs": [
    {
     "name": "stdout",
     "output_type": "stream",
     "text": [
      "EM\ta\tjss\n",
      "False\t1.0000\t0.4990\n",
      "True\t1.0000\t0.4879\n",
      "False\t2.0000\t0.4956\n",
      "True\t2.0000\t0.4853\n",
      "False\t4.0000\t0.5594\n",
      "True\t4.0000\t0.5058\n",
      "False\t8.0000\t0.6920\n",
      "True\t8.0000\t0.5641\n",
      "False\t16.0000\t0.7940\n",
      "True\t16.0000\t0.6095\n"
     ]
    }
   ],
   "source": [
    "print(\"EM\\ta\\tjss\")\n",
    "jcurves = {}\n",
    "for ds in DATASETS:\n",
    "    for EM in [False, True]:\n",
    "        print(\"{}\\t{:.4f}\".format(EM, ds[\"a\"]), end=\"\")\n",
    "        for mask in MASKS:\n",
    "            key = str(EM) + mask\n",
    "            jss = metrics.jaccard_similarity_score(ds[\"Z\"], ds[\"L\" + key])\n",
    "            if key not in jcurves:\n",
    "                jcurves[key] = {}\n",
    "            jcurves[key][ds[\"a\"]] = jss\n",
    "            print(\"\\t{:.4f}\".format(jss), end=\"\")\n",
    "        print()"
   ]
  },
  {
   "cell_type": "markdown",
   "metadata": {},
   "source": [
    "Let's visualize Jaccard score:"
   ]
  },
  {
   "cell_type": "code",
   "execution_count": 114,
   "metadata": {},
   "outputs": [
    {
     "data": {
      "text/plain": [
       "<matplotlib.legend.Legend at 0x10b071b70>"
      ]
     },
     "execution_count": 114,
     "metadata": {},
     "output_type": "execute_result"
    },
    {
     "data": {
      "image/png": "[encoded data removed]",
      "text/plain": [
       "<Figure size 720x216 with 1 Axes>"
      ]
     },
     "metadata": {},
     "output_type": "display_data"
    }
   ],
   "source": [
    "xs = as_\n",
    "f_s_pauc, sp = plt.subplots(1, 1, sharex=True, sharey=True)\n",
    "f_s_pauc.subplots_adjust(wspace=0.05, hspace=0.05)\n",
    "f_s_pauc.set_figwidth(10)\n",
    "f_s_pauc.set_figheight(3)\n",
    "sp.set_ylabel(\"Jackard score\")\n",
    "sp.set_xlabel(\"shape of interval distribution\")\n",
    "sp.set_ylim(0., 1.)\n",
    "sp.semilogx(basex=2)\n",
    "for mask in MASKS:\n",
    "    for (i, em) in enumerate([\"False\", \"True\"]):\n",
    "        ys = numpy.array([jcurves[em + mask][a] for a in as_])\n",
    "        sp.plot(xs, ys, label=[\"known process\", \"EM\"][i], marker=['o', 'x'][i])\n",
    "sp.legend()\n",
    "# f_s_jss.savefig(\"../figures/synthetic-jaccard-score.pdf\")"
   ]
  },
  {
   "cell_type": "markdown",
   "metadata": {},
   "source": [
    "## Evaluation on anonymized real-world data"
   ]
  },
  {
   "cell_type": "code",
   "execution_count": 11,
   "metadata": {},
   "outputs": [],
   "source": [
    "def cfname(t, intr):\n",
    "    return format(\"../data/{}-collected-{}.npy\".format(t, intr))"
   ]
  },
  {
   "cell_type": "markdown",
   "metadata": {},
   "source": [
    "The dataset as given is split into positive and negative samples. We load the dataset and concatenate both parts."
   ]
  },
  {
   "cell_type": "code",
   "execution_count": 12,
   "metadata": {},
   "outputs": [],
   "source": [
    "Ss = []\n",
    "Zs = []\n",
    "for intr in [\"negative\", \"positive\"]:\n",
    "    Ss.append(numpy.load(cfname(\"s\", intr)))\n",
    "    Zs.append(numpy.load(cfname(\"z\", intr)))\n",
    "ds = {}\n",
    "ds[\"S\"] = numpy.concatenate(Ss, axis=0)\n",
    "ds[\"Z\"] = numpy.concatenate(Zs, axis=0)\n",
    "ds[\"T\"] = numpy.array([[0., 1.]] * ds[\"S\"].shape[0])\n",
    "assert ds[\"S\"].shape[0] == ds[\"Z\"].shape[0]"
   ]
  },
  {
   "cell_type": "markdown",
   "metadata": {},
   "source": [
    "We shuffle samples in the data set and split it into the training and testing data set. We will use the training dataset to estimate prior probability of intrusion."
   ]
  },
  {
   "cell_type": "code",
   "execution_count": 18,
   "metadata": {
    "scrolled": true
   },
   "outputs": [
    {
     "name": "stdout",
     "output_type": "stream",
     "text": [
      "1000 samples, 50 time points per sample\n"
     ]
    }
   ],
   "source": [
    "NSAMPLES, N, _ = ds[\"S\"].shape\n",
    "TRAIN_FRACTION = 5\n",
    "\n",
    "indices = numpy.array(range(NSAMPLES))\n",
    "numpy.random.shuffle(indices)\n",
    "\n",
    "ds[\"S\"] = ds[\"S\"][indices]\n",
    "ds[\"Z\"] = ds[\"Z\"][indices]\n",
    "\n",
    "print(\"{} samples, {} time points per sample\".format(NSAMPLES, N))\n",
    "\n",
    "train_indices = indices[:len(indices) // TRAIN_FRACTION]\n",
    "test_indices = indices[len(indices) // TRAIN_FRACTION:]\n",
    "\n",
    "ds_train = {}\n",
    "ds_test = {}\n",
    "for key in [\"S\", \"Z\", \"T\"]:\n",
    "    ds_train[key] = ds[key][train_indices]\n",
    "    ds_test[key] = ds[key][test_indices]"
   ]
  },
  {
   "cell_type": "code",
   "execution_count": null,
   "metadata": {
    "scrolled": false
   },
   "outputs": [],
   "source": [
    "print(\"pi\\tpauc\\tmauc\\tjss\")\n",
    "f, plot = plt.subplots(1, 1)\n",
    "plot.set_xlabel(\"FPR\")\n",
    "plot.set_ylabel(\"TPR\")\n",
    "maxauc = 0.\n",
    "pibest = 0.5 # a fallback for quick tests\n",
    "for pi in [0.05, 0.1, 0.2, 0.4]:\n",
    "    pe = get_pe(ds_train[\"S\"].shape[1], pi)\n",
    "    posteriors(ds_train, EM=True, F=None, G=None, pe=pe, masks=[\"\"])\n",
    "    fpr, tpr, thresholds = metrics.roc_curve(ds_train[\"Z\"].sum(axis=1) > 0,\n",
    "                                             ds_train[\"PTrue\"], \n",
    "                                             pos_label=True)\n",
    "    pauc = metrics.auc(fpr, tpr)\n",
    "    plot.plot(fpr, tpr, c='blue', label='per entry')\n",
    "\n",
    "    fpr, tpr, thresholds = metrics.roc_curve(ds_train[\"Z\"].reshape(-1) > 0,\n",
    "                                             ds_train[\"MTrue\"].reshape(-1), \n",
    "                                             pos_label=True)\n",
    "    mauc = metrics.auc(fpr, tpr)\n",
    "    plot.plot(fpr, tpr, c='orange', label='per event')\n",
    "\n",
    "    jss = metrics.jaccard_similarity_score(ds_train[\"Z\"], ds_train[\"LTrue\"])\n",
    "\n",
    "    print(\"{:.4f}\\t{:.4f}\\t{:.4f}\\t{:4f}\".format(pi, pauc, mauc, jss))\n",
    "    \n",
    "    if mauc*pauc > maxauc:\n",
    "        pibest = pi\n",
    "        maxauc = mauc*pauc\n",
    " \n",
    "print(\"pibest = {:.4f}\".format(pibest))\n",
    "\n",
    "handles, labels = plot.get_legend_handles_labels()\n",
    "plot.legend(handles[-2:], labels[-2:])"
   ]
  },
  {
   "cell_type": "markdown",
   "metadata": {},
   "source": [
    "We chose $p$, the prior intrusion probability, to maximize the AUC. With $p$ chosen, we  evaluate the algorithm on the test dataset. "
   ]
  },
  {
   "cell_type": "code",
   "execution_count": 20,
   "metadata": {},
   "outputs": [],
   "source": [
    "posteriors(ds_test, EM=True, F=None, G=None, pe=get_pe(N, pibest))"
   ]
  },
  {
   "cell_type": "code",
   "execution_count": 33,
   "metadata": {},
   "outputs": [
    {
     "name": "stdout",
     "output_type": "stream",
     "text": [
      "          AUC per entry    AUC per event    Jaccard score  \n",
      "I             0.6849           0.8714           0.5303     \n",
      "M             0.5980           0.7646           0.4810     \n",
      "IM            0.7302           0.9099           0.5814     \n"
     ]
    },
    {
     "data": {
      "text/plain": [
       "<matplotlib.legend.Legend at 0x109df7438>"
      ]
     },
     "execution_count": 33,
     "metadata": {},
     "output_type": "execute_result"
    },
    {
     "data": {
      "image/png": "[encoded data removed]",
      "text/plain": [
       "<Figure size 1080x216 with 3 Axes>"
      ]
     },
     "metadata": {},
     "output_type": "display_data"
    }
   ],
   "source": [
    "f_a_roc, sps = plt.subplots(1, 3, sharey=True)\n",
    "f_a_roc.set_figheight(3)\n",
    "f_a_roc.set_figwidth(15)\n",
    "f_a_roc.subplots_adjust(wspace=0.1)\n",
    "sps[0].set_ylabel(\"TPR\")\n",
    "sps[0].set_title(\"Intervals\")\n",
    "sps[1].set_title(\"Marks\")\n",
    "sps[2].set_title(\"Marks and intervals\")\n",
    "print((\"{:8s}\" + \"\".join([\" {:^16s}\"] * 3))\n",
    "      .format(\"\", \"AUC per entry\", \"AUC per event\", \"Jaccard score\"))\n",
    "for i, (mask, label) in enumerate([(\"G\", \"I\"), (\"F\", \"M\"), (\"\", \"IM\")]):\n",
    "    sps[i].set_xlabel(\"FPR\")\n",
    "\n",
    "    fpr, tpr, thresholds = metrics.roc_curve(ds_test[\"Z\"].sum(axis=1) > 0,\n",
    "                                             ds_test[\"PTrue\" + mask], \n",
    "                                             pos_label=True)\n",
    "    pauc = metrics.auc(fpr, tpr)\n",
    "    sps[i].plot(fpr, fpr, '--', c='lightgray')\n",
    "    sps[i].plot(fpr, tpr, c='blue', label='per entry')\n",
    "\n",
    "    fpr, tpr, thresholds = metrics.roc_curve(ds_test[\"Z\"].reshape(-1) > 0,\n",
    "                                             ds_test[\"MTrue\" + mask].reshape(-1), \n",
    "                                             pos_label=True)\n",
    "    mauc = metrics.auc(fpr, tpr)\n",
    "    sps[i].plot(fpr, tpr, c='orange', label='per event')\n",
    "\n",
    "    jss = metrics.jaccard_similarity_score(ds_test[\"Z\"], ds_test[\"LTrue\" + mask])\n",
    "\n",
    "    print((\"{:8s}\" + \"\".join([\" {:^16.4f}\"] * 3))\n",
    "          .format(label, pauc, mauc, jss))\n",
    "sps[2].legend()\n",
    "# f_a_roc.savefig(\"../figures/anonymized-roc.pdf\")"
   ]
  },
  {
   "cell_type": "markdown",
   "metadata": {},
   "source": [
    "An alternative view at the results, I haven't decided yet which to use."
   ]
  },
  {
   "cell_type": "code",
   "execution_count": 31,
   "metadata": {},
   "outputs": [
    {
     "name": "stdout",
     "output_type": "stream",
     "text": [
      "                               AUC         Jaccard score  \n",
      "intervals                     0.6849           0.5303     \n",
      "marks                         0.5980           0.4810     \n",
      "intervals and marks           0.7302           0.5814     \n"
     ]
    },
    {
     "data": {
      "text/plain": [
       "<matplotlib.legend.Legend at 0x10356c2e8>"
      ]
     },
     "execution_count": 31,
     "metadata": {},
     "output_type": "execute_result"
    },
    {
     "data": {
      "image/png": "[encoded data removed]",
      "text/plain": [
       "<Figure size 720x360 with 1 Axes>"
      ]
     },
     "metadata": {},
     "output_type": "display_data"
    }
   ],
   "source": [
    "f_a_roc, sp = plt.subplots(1, 1, sharey=True)\n",
    "f_a_roc.set_figheight(5)\n",
    "f_a_roc.set_figwidth(10)\n",
    "f_a_roc.subplots_adjust(wspace=0.1)\n",
    "sp.set_ylabel(\"TPR\")\n",
    "sp.set_xlabel(\"FPR\")\n",
    "print((\"{:24s}\" + \"\".join([\" {:^16s}\"] * 2))\n",
    "      .format(\"\", \"AUC\", \"Jaccard score\"))\n",
    "for i, (mask, label) in enumerate([(\"G\", \"intervals\"), (\"F\", \"marks\"), (\"\", \"intervals and marks\")]):\n",
    "    fpr, tpr, thresholds = metrics.roc_curve(ds_test[\"Z\"].sum(axis=1) > 0,\n",
    "                                             ds_test[\"PTrue\" + mask], \n",
    "                                             pos_label=True)\n",
    "    pauc = metrics.auc(fpr, tpr)\n",
    "    sp.plot(fpr, tpr, label=label)\n",
    "\n",
    "    jss = metrics.jaccard_similarity_score(ds_test[\"Z\"], ds_test[\"LTrue\" + mask])\n",
    "\n",
    "    print((\"{:24s}\" + \"\".join([\" {:^16.4f}\"] * 2))\n",
    "          .format(label, pauc, jss))\n",
    "sp.plot(fpr, fpr, '--', c='lightgray')\n",
    "sp.legend()\n",
    "# f_a_roc.savefig(\"../figures/anonymized-roc-combined.pdf\")"
   ]
  }
 ],
 "metadata": {
  "kernelspec": {
   "display_name": "Python 3",
   "language": "python",
   "name": "python3"
  },
  "language_info": {
   "codemirror_mode": {
    "name": "ipython",
    "version": 3
   },
   "file_extension": ".py",
   "mimetype": "text/x-python",
   "name": "python",
   "nbconvert_exporter": "python",
   "pygments_lexer": "ipython3",
   "version": "3.6.5"
  }
 },
 "nbformat": 4,
 "nbformat_minor": 2
}
